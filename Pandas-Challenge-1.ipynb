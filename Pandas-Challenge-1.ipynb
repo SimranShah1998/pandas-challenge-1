{
 "cells": [
  {
   "cell_type": "code",
   "execution_count": 8,
   "id": "b661ded5-4324-43ec-8a33-c2cbdef2d727",
   "metadata": {},
   "outputs": [],
   "source": [
    "import pandas as pd"
   ]
  },
  {
   "cell_type": "markdown",
   "id": "d4335af9-96a3-4491-b147-6a4b3b4672b4",
   "metadata": {},
   "source": [
    "# Reading the Data Set: This section loads the dataset and performs initial data exploration:"
   ]
  },
  {
   "cell_type": "code",
   "execution_count": 9,
   "id": "e4f82293-8039-4c36-9ddd-c2871c00f6db",
   "metadata": {},
   "outputs": [],
   "source": [
    "df = pd.read_csv('client_dataset.csv')"
   ]
  },
  {
   "cell_type": "markdown",
   "id": "ad994ba7-d741-4862-8f8f-1a93118f66dd",
   "metadata": {},
   "source": [
    "# This command will display all the column names in your dataset:"
   ]
  },
  {
   "cell_type": "code",
   "execution_count": 11,
   "id": "7bbf64f2-2780-42e7-9440-efb9f2e2879a",
   "metadata": {},
   "outputs": [
    {
     "data": {
      "text/plain": [
       "Index(['first', 'last', 'job', 'phone', 'email', 'client_id', 'order_id',\n",
       "       'order_date', 'order_week', 'order_year', 'item_id', 'category',\n",
       "       'subcategory', 'unit_price', 'unit_cost', 'unit_weight', 'qty',\n",
       "       'line_number'],\n",
       "      dtype='object')"
      ]
     },
     "execution_count": 11,
     "metadata": {},
     "output_type": "execute_result"
    }
   ],
   "source": [
    "df.columns"
   ]
  },
  {
   "cell_type": "markdown",
   "id": "23d28fc6-232d-4239-9201-16acd782ad20",
   "metadata": {},
   "source": [
    "# This function provides a summary of statistics for each numerical column, including the count, mean, standard deviation, min, max, and quartile values:\n"
   ]
  },
  {
   "cell_type": "code",
   "execution_count": 12,
   "id": "affe5e15-761c-4ced-b015-e749e43cd13b",
   "metadata": {},
   "outputs": [
    {
     "data": {
      "text/html": [
       "<div>\n",
       "<style scoped>\n",
       "    .dataframe tbody tr th:only-of-type {\n",
       "        vertical-align: middle;\n",
       "    }\n",
       "\n",
       "    .dataframe tbody tr th {\n",
       "        vertical-align: top;\n",
       "    }\n",
       "\n",
       "    .dataframe thead th {\n",
       "        text-align: right;\n",
       "    }\n",
       "</style>\n",
       "<table border=\"1\" class=\"dataframe\">\n",
       "  <thead>\n",
       "    <tr style=\"text-align: right;\">\n",
       "      <th></th>\n",
       "      <th>client_id</th>\n",
       "      <th>order_id</th>\n",
       "      <th>order_week</th>\n",
       "      <th>order_year</th>\n",
       "      <th>unit_price</th>\n",
       "      <th>unit_cost</th>\n",
       "      <th>unit_weight</th>\n",
       "      <th>qty</th>\n",
       "      <th>line_number</th>\n",
       "    </tr>\n",
       "  </thead>\n",
       "  <tbody>\n",
       "    <tr>\n",
       "      <th>count</th>\n",
       "      <td>54639.000000</td>\n",
       "      <td>5.463900e+04</td>\n",
       "      <td>54639.000000</td>\n",
       "      <td>54639.000000</td>\n",
       "      <td>54639.000000</td>\n",
       "      <td>54639.000000</td>\n",
       "      <td>54639.000000</td>\n",
       "      <td>5.463900e+04</td>\n",
       "      <td>54639.000000</td>\n",
       "    </tr>\n",
       "    <tr>\n",
       "      <th>mean</th>\n",
       "      <td>54837.869416</td>\n",
       "      <td>5.470190e+06</td>\n",
       "      <td>11.359139</td>\n",
       "      <td>2022.993064</td>\n",
       "      <td>136.267207</td>\n",
       "      <td>99.446073</td>\n",
       "      <td>5.004116</td>\n",
       "      <td>5.702646e+02</td>\n",
       "      <td>2.979667</td>\n",
       "    </tr>\n",
       "    <tr>\n",
       "      <th>std</th>\n",
       "      <td>25487.438231</td>\n",
       "      <td>2.599807e+06</td>\n",
       "      <td>7.023499</td>\n",
       "      <td>0.082997</td>\n",
       "      <td>183.873135</td>\n",
       "      <td>133.164267</td>\n",
       "      <td>5.326599</td>\n",
       "      <td>1.879552e+04</td>\n",
       "      <td>2.436320</td>\n",
       "    </tr>\n",
       "    <tr>\n",
       "      <th>min</th>\n",
       "      <td>10033.000000</td>\n",
       "      <td>1.000886e+06</td>\n",
       "      <td>1.000000</td>\n",
       "      <td>2022.000000</td>\n",
       "      <td>0.010000</td>\n",
       "      <td>0.010000</td>\n",
       "      <td>0.000000</td>\n",
       "      <td>0.000000e+00</td>\n",
       "      <td>0.000000</td>\n",
       "    </tr>\n",
       "    <tr>\n",
       "      <th>25%</th>\n",
       "      <td>33593.000000</td>\n",
       "      <td>3.196372e+06</td>\n",
       "      <td>6.000000</td>\n",
       "      <td>2023.000000</td>\n",
       "      <td>20.800000</td>\n",
       "      <td>14.840000</td>\n",
       "      <td>1.450000</td>\n",
       "      <td>3.200000e+01</td>\n",
       "      <td>1.000000</td>\n",
       "    </tr>\n",
       "    <tr>\n",
       "      <th>50%</th>\n",
       "      <td>53305.000000</td>\n",
       "      <td>5.496966e+06</td>\n",
       "      <td>11.000000</td>\n",
       "      <td>2023.000000</td>\n",
       "      <td>68.310000</td>\n",
       "      <td>49.890000</td>\n",
       "      <td>3.240000</td>\n",
       "      <td>6.800000e+01</td>\n",
       "      <td>3.000000</td>\n",
       "    </tr>\n",
       "    <tr>\n",
       "      <th>75%</th>\n",
       "      <td>78498.000000</td>\n",
       "      <td>7.733869e+06</td>\n",
       "      <td>17.000000</td>\n",
       "      <td>2023.000000</td>\n",
       "      <td>173.160000</td>\n",
       "      <td>125.570000</td>\n",
       "      <td>6.890000</td>\n",
       "      <td>1.700000e+02</td>\n",
       "      <td>5.000000</td>\n",
       "    </tr>\n",
       "    <tr>\n",
       "      <th>max</th>\n",
       "      <td>99984.000000</td>\n",
       "      <td>9.998480e+06</td>\n",
       "      <td>52.000000</td>\n",
       "      <td>2023.000000</td>\n",
       "      <td>1396.230000</td>\n",
       "      <td>846.270000</td>\n",
       "      <td>46.430000</td>\n",
       "      <td>3.958244e+06</td>\n",
       "      <td>9.000000</td>\n",
       "    </tr>\n",
       "  </tbody>\n",
       "</table>\n",
       "</div>"
      ],
      "text/plain": [
       "          client_id      order_id    order_week    order_year    unit_price  \\\n",
       "count  54639.000000  5.463900e+04  54639.000000  54639.000000  54639.000000   \n",
       "mean   54837.869416  5.470190e+06     11.359139   2022.993064    136.267207   \n",
       "std    25487.438231  2.599807e+06      7.023499      0.082997    183.873135   \n",
       "min    10033.000000  1.000886e+06      1.000000   2022.000000      0.010000   \n",
       "25%    33593.000000  3.196372e+06      6.000000   2023.000000     20.800000   \n",
       "50%    53305.000000  5.496966e+06     11.000000   2023.000000     68.310000   \n",
       "75%    78498.000000  7.733869e+06     17.000000   2023.000000    173.160000   \n",
       "max    99984.000000  9.998480e+06     52.000000   2023.000000   1396.230000   \n",
       "\n",
       "          unit_cost   unit_weight           qty   line_number  \n",
       "count  54639.000000  54639.000000  5.463900e+04  54639.000000  \n",
       "mean      99.446073      5.004116  5.702646e+02      2.979667  \n",
       "std      133.164267      5.326599  1.879552e+04      2.436320  \n",
       "min        0.010000      0.000000  0.000000e+00      0.000000  \n",
       "25%       14.840000      1.450000  3.200000e+01      1.000000  \n",
       "50%       49.890000      3.240000  6.800000e+01      3.000000  \n",
       "75%      125.570000      6.890000  1.700000e+02      5.000000  \n",
       "max      846.270000     46.430000  3.958244e+06      9.000000  "
      ]
     },
     "execution_count": 12,
     "metadata": {},
     "output_type": "execute_result"
    }
   ],
   "source": [
    "df.describe()\n"
   ]
  },
  {
   "cell_type": "markdown",
   "id": "d2470416-6bd7-445f-9994-0623983e9e5f",
   "metadata": {},
   "source": [
    "# This will give you a list of the top three categories in your data, sorted by the number of entries:"
   ]
  },
  {
   "cell_type": "code",
   "execution_count": 13,
   "id": "44dfc7df-dbb4-49b4-84cd-38effaeb5a83",
   "metadata": {},
   "outputs": [
    {
     "name": "stdout",
     "output_type": "stream",
     "text": [
      "category\n",
      "consumables    23538\n",
      "furniture      11915\n",
      "software        8400\n",
      "Name: count, dtype: int64\n"
     ]
    }
   ],
   "source": [
    "top_categories = df['category'].value_counts().head(3)\n",
    "print(top_categories)\n"
   ]
  },
  {
   "cell_type": "markdown",
   "id": "79380f5b-a949-4880-88fe-06698472202e",
   "metadata": {},
   "source": [
    "# This identifies the subcategory that appears most frequently within the most common category:"
   ]
  },
  {
   "cell_type": "code",
   "execution_count": 14,
   "id": "0fa56b44-11d1-4ee2-8c66-6918f9106776",
   "metadata": {},
   "outputs": [
    {
     "name": "stdout",
     "output_type": "stream",
     "text": [
      "bathroom supplies\n"
     ]
    }
   ],
   "source": [
    "top_category = df['category'].value_counts().idxmax()\n",
    "top_subcategory = df[df['category'] == top_category]['subcategory'].value_counts().idxmax()\n",
    "print(top_subcategory)\n"
   ]
  },
  {
   "cell_type": "markdown",
   "id": "ef8b72af-eaeb-4226-860f-e060f3366625",
   "metadata": {},
   "source": [
    "# This shows the client IDs of the top five clients based on the number of entries in the dataset:"
   ]
  },
  {
   "cell_type": "code",
   "execution_count": 15,
   "id": "2378bbe8-1886-4388-a0b4-1c329a8c9f62",
   "metadata": {},
   "outputs": [
    {
     "name": "stdout",
     "output_type": "stream",
     "text": [
      "client_id\n",
      "33615    220\n",
      "66037    211\n",
      "46820    209\n",
      "38378    207\n",
      "24741    207\n",
      "Name: count, dtype: int64\n"
     ]
    }
   ],
   "source": [
    "top_clients = df['client_id'].value_counts().head(5)\n",
    "print(top_clients)\n"
   ]
  },
  {
   "cell_type": "markdown",
   "id": "9491b111-7177-48e7-8480-d0f12447f1f1",
   "metadata": {},
   "source": [
    "# This creates a list of the top 5 client IDs, which can be used in later analysis:"
   ]
  },
  {
   "cell_type": "code",
   "execution_count": 17,
   "id": "10c2178d-0070-4a05-84e2-563738c54026",
   "metadata": {},
   "outputs": [
    {
     "name": "stdout",
     "output_type": "stream",
     "text": [
      "[33615, 66037, 46820, 38378, 24741]\n"
     ]
    }
   ],
   "source": [
    "top_client_ids = top_clients.index.tolist()\n",
    "print(top_client_ids)\n"
   ]
  },
  {
   "cell_type": "markdown",
   "id": "1bc6309d-52b9-4b15-8120-60a5f7b81930",
   "metadata": {},
   "source": [
    "# This calculates the total number of units ordered by the client with the most entries:"
   ]
  },
  {
   "cell_type": "code",
   "execution_count": 31,
   "id": "c2d9647b-9240-477c-a28a-b301321ca17d",
   "metadata": {},
   "outputs": [
    {
     "name": "stdout",
     "output_type": "stream",
     "text": [
      "\n",
      "Total Units Ordered by the Client with the Most Entries (33615):\n",
      " 64313\n"
     ]
    }
   ],
   "source": [
    "top_client_id = top_client_ids[0]  # Get the ID of the client with the most entries\n",
    "total_units_top_client = df[df['client_id'] == top_client_id]['qty'].sum()\n",
    "print(\"\\nTotal Units Ordered by the Client with the Most Entries ({}):\\n\".format(top_client_id), total_units_top_client)\n"
   ]
  },
  {
   "cell_type": "markdown",
   "id": "be024daa-0237-436a-a0c2-e2232b46b9f8",
   "metadata": {},
   "source": [
    "# The subtotal column represents the total price for each line item before any additional costs like shipping or taxes:"
   ]
  },
  {
   "cell_type": "code",
   "execution_count": 19,
   "id": "c6b2d218-a5c4-4704-a54e-da6540e58479",
   "metadata": {},
   "outputs": [],
   "source": [
    "df['subtotal'] = df['unit_price'] * df['qty']\n"
   ]
  },
  {
   "cell_type": "markdown",
   "id": "f6d20f42-5089-4ee1-9de7-ee0c18e7684b",
   "metadata": {},
   "source": [
    "# The shipping_price is calculated per pound based on whether the weight exceeds 50 pounds, and is stored in a new column:"
   ]
  },
  {
   "cell_type": "code",
   "execution_count": 20,
   "id": "1e910efb-dc11-48d9-8039-6c704f521775",
   "metadata": {},
   "outputs": [],
   "source": [
    "df['shipping_price'] = df['unit_weight'].apply(lambda x: 7 if x > 50 else 10) * df['unit_weight']\n"
   ]
  },
  {
   "cell_type": "markdown",
   "id": "002d2d4f-4551-4252-a6e1-4b427a7c7d01",
   "metadata": {},
   "source": [
    "# The total_price column represents the final amount billed for each line item, including shipping and tax:"
   ]
  },
  {
   "cell_type": "code",
   "execution_count": 21,
   "id": "a2cc44fd-231b-4ce3-b848-1a943650f70d",
   "metadata": {},
   "outputs": [],
   "source": [
    "df['total_price'] = (df['subtotal'] + df['shipping_price']) * 1.0925\n"
   ]
  },
  {
   "cell_type": "markdown",
   "id": "7793b8ea-d25b-42e1-bc7f-14717815188f",
   "metadata": {},
   "source": [
    "# The line_cost represents the cost incurred by the company for each line item, including shipping."
   ]
  },
  {
   "cell_type": "code",
   "execution_count": 22,
   "id": "db58a602-341e-4694-b704-e707e7be998c",
   "metadata": {},
   "outputs": [],
   "source": [
    "df['line_cost'] = (df['unit_cost'] * df['qty']) + df['shipping_price']\n"
   ]
  },
  {
   "cell_type": "markdown",
   "id": "375e86c3-f32f-4182-8928-9080f288b8fd",
   "metadata": {},
   "source": [
    "# The profit column shows the profit made on each line item after deducting costs:"
   ]
  },
  {
   "cell_type": "code",
   "execution_count": 23,
   "id": "18b166a9-b7f3-4d63-916c-79fadbf68f20",
   "metadata": {},
   "outputs": [],
   "source": [
    "df['profit'] = df['total_price'] - df['line_cost']\n"
   ]
  },
  {
   "cell_type": "markdown",
   "id": "27425efc-483b-452c-bc84-1ca0e1ddee57",
   "metadata": {},
   "source": [
    "# This code calculates the total price for each of the specified orders, which can be compared to the expected values:"
   ]
  },
  {
   "cell_type": "code",
   "execution_count": 24,
   "id": "0667f8e2-a1ca-4eb8-821b-5e53dc940571",
   "metadata": {},
   "outputs": [
    {
     "name": "stdout",
     "output_type": "stream",
     "text": [
      "order_id\n",
      "2173913    119838.357050\n",
      "2742071    139844.512025\n",
      "6128929    752748.745475\n",
      "Name: total_price, dtype: float64\n"
     ]
    }
   ],
   "source": [
    "order_ids = [2742071, 2173913, 6128929]\n",
    "order_totals = df[df['order_id'].isin(order_ids)].groupby('order_id')['total_price'].sum()\n",
    "print(order_totals)\n"
   ]
  },
  {
   "cell_type": "markdown",
   "id": "1cfdea04-8662-421c-ab6f-abac13a37866",
   "metadata": {},
   "source": [
    "# This provides the total revenue generated by each of the top 5 clients:"
   ]
  },
  {
   "cell_type": "code",
   "execution_count": 25,
   "id": "5a684cce-5144-4a2a-a569-5efae3a9a869",
   "metadata": {},
   "outputs": [
    {
     "name": "stdout",
     "output_type": "stream",
     "text": [
      "client_id\n",
      "24741    7.667848e+07\n",
      "33615    6.392918e+06\n",
      "38378    9.172866e+06\n",
      "46820    8.006333e+06\n",
      "66037    8.746255e+06\n",
      "Name: total_price, dtype: float64\n"
     ]
    }
   ],
   "source": [
    "client_revenue = df[df['client_id'].isin(top_client_ids)].groupby('client_id')['total_price'].sum()\n",
    "print(client_revenue)\n"
   ]
  },
  {
   "cell_type": "markdown",
   "id": "3c89ba47-56f8-443b-9521-cede5623fe8e",
   "metadata": {},
   "source": [
    "# The summary DataFrame provides a concise overview of the most important metrics for the top 5 clients:"
   ]
  },
  {
   "cell_type": "code",
   "execution_count": 26,
   "id": "2da94949-f39d-4fb2-8f24-8bcff65e0025",
   "metadata": {},
   "outputs": [
    {
     "name": "stdout",
     "output_type": "stream",
     "text": [
      "   client_id     qty  shipping_price   total_price        profit\n",
      "0      24741  239862          9365.6  7.667848e+07  3.610666e+07\n",
      "1      33615   64313         12609.4  6.392918e+06  2.033980e+06\n",
      "2      38378   73667         11895.0  9.172866e+06  2.955706e+06\n",
      "3      46820   75768         11094.8  8.006333e+06  2.589495e+06\n",
      "4      66037   43018         10017.3  8.746255e+06  3.126907e+06\n"
     ]
    }
   ],
   "source": [
    "summary_df = df[df['client_id'].isin(top_client_ids)].groupby('client_id').agg({\n",
    "    'qty': 'sum',\n",
    "    'shipping_price': 'sum',\n",
    "    'total_price': 'sum',\n",
    "    'profit': 'sum'\n",
    "}).reset_index()\n",
    "print(summary_df)\n"
   ]
  },
  {
   "cell_type": "markdown",
   "id": "48478c47-70c4-4f25-ba8b-1e9d44fdd2e0",
   "metadata": {},
   "source": [
    "# This step adjusts the data to be in millions for easier presentation and analysis:"
   ]
  },
  {
   "cell_type": "code",
   "execution_count": 28,
   "id": "b01a219c-9b36-49ab-8133-13c660d75f19",
   "metadata": {},
   "outputs": [
    {
     "name": "stdout",
     "output_type": "stream",
     "text": [
      "   client_id           qty  shipping_price  total_price    profit\n",
      "0      24741  2.398620e-07    9.365600e-09     0.000077  0.000036\n",
      "1      33615  6.431300e-08    1.260940e-08     0.000006  0.000002\n",
      "2      38378  7.366700e-08    1.189500e-08     0.000009  0.000003\n",
      "3      46820  7.576800e-08    1.109480e-08     0.000008  0.000003\n",
      "4      66037  4.301800e-08    1.001730e-08     0.000009  0.000003\n"
     ]
    }
   ],
   "source": [
    "def convert_to_millions(value):\n",
    "    return value / 1_000_000\n",
    "\n",
    "# Apply the conversion function to each relevant column individually\n",
    "summary_df['qty'] = summary_df['qty'].apply(convert_to_millions)\n",
    "summary_df['shipping_price'] = summary_df['shipping_price'].apply(convert_to_millions)\n",
    "summary_df['total_price'] = summary_df['total_price'].apply(convert_to_millions)\n",
    "summary_df['profit'] = summary_df['profit'].apply(convert_to_millions)\n",
    "\n",
    "# Print the result to check\n",
    "print(summary_df)\n"
   ]
  },
  {
   "cell_type": "markdown",
   "id": "7ca02b0b-61c6-478e-a3b1-06aa788596ca",
   "metadata": {},
   "source": [
    "# This section renames the columns for clarity and sorts the DataFrame by profit in descending order: "
   ]
  },
  {
   "cell_type": "code",
   "execution_count": 29,
   "id": "ca730743-5146-449c-bd1b-3b3b867ea01f",
   "metadata": {},
   "outputs": [
    {
     "name": "stdout",
     "output_type": "stream",
     "text": [
      "   Client ID  Total Units (Millions)  Total Shipping Price (Millions)  \\\n",
      "0      24741            2.398620e-07                     9.365600e-09   \n",
      "4      66037            4.301800e-08                     1.001730e-08   \n",
      "2      38378            7.366700e-08                     1.189500e-08   \n",
      "3      46820            7.576800e-08                     1.109480e-08   \n",
      "1      33615            6.431300e-08                     1.260940e-08   \n",
      "\n",
      "   Total Revenue (Millions)  Total Profit (Millions)  \n",
      "0                  0.000077                 0.000036  \n",
      "4                  0.000009                 0.000003  \n",
      "2                  0.000009                 0.000003  \n",
      "3                  0.000008                 0.000003  \n",
      "1                  0.000006                 0.000002  \n"
     ]
    }
   ],
   "source": [
    "summary_df.columns = ['Client ID', 'Total Units (Millions)', 'Total Shipping Price (Millions)', 'Total Revenue (Millions)', 'Total Profit (Millions)']\n",
    "summary_df = summary_df.sort_values(by='Total Profit (Millions)', ascending=False)\n",
    "print(summary_df)\n"
   ]
  },
  {
   "cell_type": "code",
   "execution_count": null,
   "id": "19158643-3f9c-41d6-96c5-cc2d2edc2df1",
   "metadata": {},
   "outputs": [],
   "source": []
  }
 ],
 "metadata": {
  "kernelspec": {
   "display_name": "Python 3 (ipykernel)",
   "language": "python",
   "name": "python3"
  },
  "language_info": {
   "codemirror_mode": {
    "name": "ipython",
    "version": 3
   },
   "file_extension": ".py",
   "mimetype": "text/x-python",
   "name": "python",
   "nbconvert_exporter": "python",
   "pygments_lexer": "ipython3",
   "version": "3.12.4"
  }
 },
 "nbformat": 4,
 "nbformat_minor": 5
}
